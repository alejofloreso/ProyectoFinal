{
 "cells": [
  {
   "cell_type": "code",
   "execution_count": 1,
   "metadata": {},
   "outputs": [],
   "source": [
    "import numpy as np\n",
    "import pandas as pd\n",
    "import random\n",
    "from sklearn.model_selection import train_test_split\n",
    "from sklearn.feature_extraction.text import CountVectorizer, TfidfVectorizer\n",
    "from sklearn.metrics import f1_score\n",
    "from sklearn.linear_model import LogisticRegression\n",
    "import pickle\n",
    "from sklearn.metrics import confusion_matrix\n",
    "import seaborn as sns\n",
    "import matplotlib as plt\n",
    "\n",
    "pd.options.display.float_format = \"{:,.2f}\".format"
   ]
  },
  {
   "cell_type": "markdown",
   "metadata": {},
   "source": [
    "#### Load In Data"
   ]
  },
  {
   "cell_type": "code",
   "execution_count": 3,
   "metadata": {},
   "outputs": [],
   "source": [
    "items = pd.read_excel(r'C:\\Users\\floral02\\Documents\\sklearn\\PRUEBA Web scraper y category classifier.xlsx')"
   ]
  },
  {
   "cell_type": "code",
   "execution_count": 4,
   "metadata": {},
   "outputs": [],
   "source": [
    "#Limpio nombres de columnas\n",
    "items = items.rename(columns={\"#PR LOC 1000001 : ITM_DESC\": \"Desc\"})"
   ]
  },
  {
   "cell_type": "code",
   "execution_count": 5,
   "metadata": {},
   "outputs": [],
   "source": [
    "#Guardo etiquetas de mis columnas a predecir\n",
    "labels_SG = items['SUPER GROUP'].unique()\n",
    "labels_PG = items['PRODUCT GROUP'].unique()"
   ]
  },
  {
   "cell_type": "code",
   "execution_count": 6,
   "metadata": {},
   "outputs": [],
   "source": [
    "#Elimino nulos en mi training set. Las filas con descripciones vacías porque esa es mi X\n",
    "items.dropna(subset = [\"ITEM DESCRIPTIONS\"], inplace=True)"
   ]
  },
  {
   "cell_type": "markdown",
   "metadata": {},
   "source": [
    "#### Load Classifier"
   ]
  },
  {
   "cell_type": "code",
   "execution_count": 34,
   "metadata": {},
   "outputs": [],
   "source": [
    "with open('./models/category_classifier.pkl', 'rb') as f:\n",
    "    log = pickle.load(f)\n",
    "\n",
    "with open('./models/category_classifier_z.pkl', 'rb') as f:\n",
    "    log_z = pickle.load(f)\n",
    "\n",
    "with open('./models/category_vectorizer.pkl', 'rb') as f:\n",
    "    vectorizer = pickle.load(f)\n",
    "    \n",
    "with open('./models/category_vectorizer_2.pkl', 'rb') as f:\n",
    "    vectorizer_2 = pickle.load(f)"
   ]
  },
  {
   "cell_type": "markdown",
   "metadata": {},
   "source": [
    "#### Predicting New Items"
   ]
  },
  {
   "cell_type": "code",
   "execution_count": 35,
   "metadata": {},
   "outputs": [],
   "source": [
    "raw_test = pd.read_excel(r'C:\\Users\\floral02\\Documents\\sklearn\\ITEMS PR - SIN CREAR.xlsx')"
   ]
  },
  {
   "cell_type": "code",
   "execution_count": 36,
   "metadata": {},
   "outputs": [],
   "source": [
    "raw_test = raw_test.rename(columns={\"ITEM DESCRIPTION\": \"Desc\"})"
   ]
  },
  {
   "cell_type": "code",
   "execution_count": 37,
   "metadata": {},
   "outputs": [],
   "source": [
    "raw_test_list = raw_test['Desc'].tolist()"
   ]
  },
  {
   "cell_type": "code",
   "execution_count": 38,
   "metadata": {},
   "outputs": [],
   "source": [
    "raw_test_vectors = vectorizer.transform(raw_test_list)"
   ]
  },
  {
   "cell_type": "code",
   "execution_count": 39,
   "metadata": {},
   "outputs": [],
   "source": [
    "raw_test_vectors_2 = vectorizer_2.transform(raw_test_list)"
   ]
  },
  {
   "cell_type": "code",
   "execution_count": 40,
   "metadata": {},
   "outputs": [],
   "source": [
    "lr_test_pred = log.predict(raw_test_vectors_2)\n",
    "lr_test_pred\n",
    "\n",
    "lr_test_pred_2 = log_z.predict(raw_test_vectors_2)\n",
    "lr_test_pred_2\n",
    "\n",
    "df_predicted = pd.DataFrame({'Super Group Predicted':lr_test_pred})\n",
    "df_predicted_2 = pd.DataFrame({'Product Group Predicted':lr_test_pred_2})\n",
    "\n",
    "proba = log.predict_proba(raw_test_vectors_2)\n",
    "proba = pd.DataFrame([max(x) for x in proba], columns = ['Proba Super Group'])\n",
    "\n",
    "proba_2 = log_z.predict_proba(raw_test_vectors_2)\n",
    "proba_2 = pd.DataFrame([max(x) for x in proba_2], columns = ['Proba Product Group'])\n",
    "\n",
    "csv = pd.concat([raw_test.reset_index(drop=False), df_predicted.reset_index(drop=True), \n",
    "                   df_predicted_2.reset_index(drop=True), proba.reset_index(drop=True), \n",
    "                proba_2.reset_index(drop=True)], axis=1)\n",
    "\n",
    "csv.to_csv(r'C:\\Users\\floral02\\Documents\\sklearn\\predictions_SG_PG_con_proba.csv', index = False, header=True)"
   ]
  }
 ],
 "metadata": {
  "kernelspec": {
   "display_name": "Python 3",
   "language": "python",
   "name": "python3"
  },
  "language_info": {
   "codemirror_mode": {
    "name": "ipython",
    "version": 3
   },
   "file_extension": ".py",
   "mimetype": "text/x-python",
   "name": "python",
   "nbconvert_exporter": "python",
   "pygments_lexer": "ipython3",
   "version": "3.8.5"
  }
 },
 "nbformat": 4,
 "nbformat_minor": 4
}
